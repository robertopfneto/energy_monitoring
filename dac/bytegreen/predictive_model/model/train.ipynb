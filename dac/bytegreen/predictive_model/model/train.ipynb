{
 "cells": [
  {
   "cell_type": "code",
   "execution_count": null,
   "id": "44081992",
   "metadata": {},
   "outputs": [],
   "source": [
    "import torch\n",
    "import torch.nn as nn"
   ]
  },
  {
   "cell_type": "code",
   "execution_count": null,
   "id": "90069301",
   "metadata": {},
   "outputs": [],
   "source": [
    "# Classe da Rede\n",
    "class EnergyLSTM(nn.Module):\n",
    "    def __init__ (self, \n",
    "                  input_size=3, #consumo kWh, custo estimado e emissão de Co2,\n",
    "                  hidden_size= 64, #64 neuronios na camada oculta, para treinamentos mais precisos aumentar esse valor\n",
    "                  num_layers=2, # duas camadas\n",
    "                  output_size=2): # 2 valores de saída: consumo kWh e emissão CO2\n",
    "        super(EnergyLSTM, self).__init__()\n",
    "        self.lstm = nn.LSTM(input_size, hidden_size, num_layers, batch_first=True) #criando a camada LSTM\n",
    "        self.fc = nn.Linear(hidden_size,output_size) #camada fully connected - traduz a saida LSTM em uma previsão concreta\n",
    "\n",
    "    def forward(self, x):\n",
    "        out, _ = self.lstm(x) \n",
    "        last = out[: ,-1, :]\n",
    "        pred = self.fc(last)\n",
    "        return pred"
   ]
  }
 ],
 "metadata": {
  "kernelspec": {
   "display_name": "dac",
   "language": "python",
   "name": "python3"
  },
  "language_info": {
   "name": "python",
   "version": "3.9.1"
  }
 },
 "nbformat": 4,
 "nbformat_minor": 5
}
